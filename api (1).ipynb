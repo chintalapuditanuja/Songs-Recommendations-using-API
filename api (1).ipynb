{
 "cells": [
  {
   "cell_type": "code",
   "execution_count": 5,
   "id": "7a2ee6d8",
   "metadata": {},
   "outputs": [],
   "source": [
    "import base64\n",
    "import requests"
   ]
  },
  {
   "cell_type": "code",
   "execution_count": 6,
   "id": "132d6563",
   "metadata": {},
   "outputs": [
    {
     "name": "stdout",
     "output_type": "stream",
     "text": [
      "Access token: BQCyUDspFe4Prs1SGG9RH134KBuDXkk5wNcsB8-H_g94NHxov2d87Zm9Qom4pxfEn-sBIQ-y0gCVTgmaHcqqOOqdGMuBie6VWH8RZDrF48H24ndfip0\n"
     ]
    }
   ],
   "source": [
    "# Spotify API credentials\n",
    "CLIENT_ID = '8ec2b5c7f6434ef093e41bde0a5a0cf2'\n",
    "CLIENT_SECRET = '901548a3cee34119a790342363d71dbe'\n",
    "\n",
    "# Construct the request payload\n",
    "payload = {\n",
    "    'grant_type': 'client_credentials'\n",
    "}\n",
    "\n",
    "# Encode client ID and client secret for authorization header\n",
    "credentials = base64.b64encode(f\"{CLIENT_ID}:{CLIENT_SECRET}\".encode()).decode('utf-8')\n",
    "headers = {\n",
    "    'Authorization': f'Basic {credentials}'\n",
    "}\n",
    "\n",
    "# Send the POST request to the token endpoint\n",
    "token_url = 'https://accounts.spotify.com/api/token'\n",
    "response = requests.post(token_url, headers=headers, data=payload)\n",
    "\n",
    "# Check if the request was successful (status code 200)\n",
    "if response.status_code == 200:\n",
    "    # Parse the JSON response\n",
    "    token_data = response.json()\n",
    "    # Check if 'access_token' key is present in the response\n",
    "    if 'access_token' in token_data:\n",
    "        # Extract the access token\n",
    "        access_token = token_data['access_token']\n",
    "        print(\"Access token:\", access_token)\n",
    "    else:\n",
    "        print(\"Error: 'access_token' key not found in response.\")\n",
    "        print(\"Response content:\", response.text)\n",
    "else:\n",
    "    print(\"Failed to retrieve access token. Status code:\", response.status_code)\n",
    "    print(\"Response content:\", response.text)\n",
    "\n"
   ]
  },
  {
   "cell_type": "code",
   "execution_count": null,
   "id": "80cd3fec",
   "metadata": {},
   "outputs": [],
   "source": []
  },
  {
   "cell_type": "code",
   "execution_count": null,
   "id": "59a6aafc",
   "metadata": {},
   "outputs": [],
   "source": []
  }
 ],
 "metadata": {
  "kernelspec": {
   "display_name": "Python 3 (ipykernel)",
   "language": "python",
   "name": "python3"
  },
  "language_info": {
   "codemirror_mode": {
    "name": "ipython",
    "version": 3
   },
   "file_extension": ".py",
   "mimetype": "text/x-python",
   "name": "python",
   "nbconvert_exporter": "python",
   "pygments_lexer": "ipython3",
   "version": "3.11.5"
  }
 },
 "nbformat": 4,
 "nbformat_minor": 5
}
